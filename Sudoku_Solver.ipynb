{
  "nbformat": 4,
  "nbformat_minor": 0,
  "metadata": {
    "colab": {
      "name": "Sudoku Solver.ipynb",
      "provenance": []
    },
    "kernelspec": {
      "name": "python3",
      "display_name": "Python 3"
    }
  },
  "cells": [
    {
      "cell_type": "markdown",
      "metadata": {
        "id": "G1QeJXsl69OC"
      },
      "source": [
        "###### Importing library"
      ]
    },
    {
      "cell_type": "code",
      "metadata": {
        "id": "Zbu4gFwJ5fJS"
      },
      "source": [
        "import numpy as np"
      ],
      "execution_count": 15,
      "outputs": []
    },
    {
      "cell_type": "markdown",
      "metadata": {
        "id": "yKOkXc9j7UPs"
      },
      "source": [
        "###### Value"
      ]
    },
    {
      "cell_type": "code",
      "metadata": {
        "id": "il8XQ5Pc7Za1"
      },
      "source": [
        "sudoku = [[0,0,0,3,0,2,0,0,0],\n",
        "          [0,5,0,7,9,8,0,3,0],\n",
        "          [0,0,7,0,0,0,8,0,0],\n",
        "          [0,0,8,6,0,7,3,0,0],\n",
        "          [0,7,0,0,0,0,0,6,0],\n",
        "          [0,0,3,5,0,4,1,0,0],\n",
        "          [0,0,5,0,0,0,6,0,0],\n",
        "          [0,2,0,4,1,9,0,5,0],\n",
        "          [0,0,0,8,0,6,0,0,0]]"
      ],
      "execution_count": 16,
      "outputs": []
    },
    {
      "cell_type": "markdown",
      "metadata": {
        "id": "Fuz52buLDbt4"
      },
      "source": [
        "##### Print Value"
      ]
    },
    {
      "cell_type": "code",
      "metadata": {
        "id": "dooTd-XCDJnH",
        "outputId": "a99fb07a-ddb9-48e5-a9d1-0e9521121f94",
        "colab": {
          "base_uri": "https://localhost:8080/"
        }
      },
      "source": [
        "print(sudoku)"
      ],
      "execution_count": 17,
      "outputs": [
        {
          "output_type": "stream",
          "text": [
            "[[0, 0, 0, 3, 0, 2, 0, 0, 0], [0, 5, 0, 7, 9, 8, 0, 3, 0], [0, 0, 7, 0, 0, 0, 8, 0, 0], [0, 0, 8, 6, 0, 7, 3, 0, 0], [0, 7, 0, 0, 0, 0, 0, 6, 0], [0, 0, 3, 5, 0, 4, 1, 0, 0], [0, 0, 5, 0, 0, 0, 6, 0, 0], [0, 2, 0, 4, 1, 9, 0, 5, 0], [0, 0, 0, 8, 0, 6, 0, 0, 0]]\n"
          ],
          "name": "stdout"
        }
      ]
    },
    {
      "cell_type": "markdown",
      "metadata": {
        "id": "yI9sWc-bDklw"
      },
      "source": [
        "##### Convert it into Array"
      ]
    },
    {
      "cell_type": "code",
      "metadata": {
        "id": "m9DHf3imDq7P"
      },
      "source": [
        "sudoku_matrix = np.matrix(sudoku)"
      ],
      "execution_count": 18,
      "outputs": []
    },
    {
      "cell_type": "markdown",
      "metadata": {
        "id": "Kf8twanEEFCe"
      },
      "source": [
        "##### Print Sudoku matrix value"
      ]
    },
    {
      "cell_type": "code",
      "metadata": {
        "id": "0tT6P26oEJts",
        "outputId": "dddcb7dd-6b7a-4fc2-b52f-fc8fca82e3b3",
        "colab": {
          "base_uri": "https://localhost:8080/"
        }
      },
      "source": [
        "print(sudoku_matrix)"
      ],
      "execution_count": 19,
      "outputs": [
        {
          "output_type": "stream",
          "text": [
            "[[0 0 0 3 0 2 0 0 0]\n",
            " [0 5 0 7 9 8 0 3 0]\n",
            " [0 0 7 0 0 0 8 0 0]\n",
            " [0 0 8 6 0 7 3 0 0]\n",
            " [0 7 0 0 0 0 0 6 0]\n",
            " [0 0 3 5 0 4 1 0 0]\n",
            " [0 0 5 0 0 0 6 0 0]\n",
            " [0 2 0 4 1 9 0 5 0]\n",
            " [0 0 0 8 0 6 0 0 0]]\n"
          ],
          "name": "stdout"
        }
      ]
    },
    {
      "cell_type": "markdown",
      "metadata": {
        "id": "xx2XsPq_-kSH"
      },
      "source": [
        "##### Function for number position"
      ]
    },
    {
      "cell_type": "code",
      "metadata": {
        "id": "CA1xta8E-j4h"
      },
      "source": [
        "def number(y, x, n):\n",
        "  global sudoku\n",
        "  for i in range(0, 9):\n",
        "    if sudoku[y][i] == n:\n",
        "      return False\n",
        "  for i in range(0, 9):\n",
        "    if sudoku[i][x] == n:\n",
        "      return False\n",
        "  x0 = (x // 3)*3\n",
        "  y0 = (y // 3)*3\n",
        "  for i in range(0, 3):\n",
        "    for j in range(0, 3):\n",
        "      if sudoku[y0+i][x0+j] == n:\n",
        "        return False\n",
        "  return True"
      ],
      "execution_count": 20,
      "outputs": []
    },
    {
      "cell_type": "markdown",
      "metadata": {
        "id": "1PVyEWaxBAA_"
      },
      "source": [
        "##### Checking function 'number'\n"
      ]
    },
    {
      "cell_type": "code",
      "metadata": {
        "id": "R5CtPj7eA6g1",
        "outputId": "f13fb7e0-19d3-4be1-b63e-c5adc9fa1de0",
        "colab": {
          "base_uri": "https://localhost:8080/"
        }
      },
      "source": [
        "number(2, 4 ,1)"
      ],
      "execution_count": 21,
      "outputs": [
        {
          "output_type": "execute_result",
          "data": {
            "text/plain": [
              "False"
            ]
          },
          "metadata": {
            "tags": []
          },
          "execution_count": 21
        }
      ]
    },
    {
      "cell_type": "markdown",
      "metadata": {
        "id": "ictTUw6kDjwx"
      },
      "source": [
        "##### Function for result"
      ]
    },
    {
      "cell_type": "code",
      "metadata": {
        "id": "zUmtNAN3EGE4"
      },
      "source": [
        "def result():\n",
        "  global sudoku\n",
        "  for y in range(9):\n",
        "    for x in range(9):\n",
        "      if sudoku[y][x] == 0:\n",
        "        for n in range(1, 10):\n",
        "          if number(y, x, n):\n",
        "            sudoku[y][x] = n\n",
        "            result()\n",
        "            sudoku[y][x] = 0\n",
        "        return\n",
        "  print(np.matrix(sudoku))"
      ],
      "execution_count": 22,
      "outputs": []
    },
    {
      "cell_type": "markdown",
      "metadata": {
        "id": "u1BGMAeyFtJX"
      },
      "source": [
        "##### Print the 'result' function"
      ]
    },
    {
      "cell_type": "code",
      "metadata": {
        "id": "hi4uoWHkFxPI",
        "outputId": "9d948289-1c15-4635-9fe7-12fff57a301d",
        "colab": {
          "base_uri": "https://localhost:8080/"
        }
      },
      "source": [
        "result()"
      ],
      "execution_count": 23,
      "outputs": [
        {
          "output_type": "stream",
          "text": [
            "[[6 8 9 3 4 2 5 1 7]\n",
            " [1 5 2 7 9 8 4 3 6]\n",
            " [3 4 7 1 6 5 8 9 2]\n",
            " [9 1 8 6 2 7 3 4 5]\n",
            " [5 7 4 9 3 1 2 6 8]\n",
            " [2 6 3 5 8 4 1 7 9]\n",
            " [4 9 5 2 7 3 6 8 1]\n",
            " [8 2 6 4 1 9 7 5 3]\n",
            " [7 3 1 8 5 6 9 2 4]]\n"
          ],
          "name": "stdout"
        }
      ]
    }
  ]
}